{
 "cells": [
  {
   "cell_type": "code",
   "execution_count": 1,
   "metadata": {
    "_cell_guid": "b1076dfc-b9ad-4769-8c92-a6c4dae69d19",
    "_uuid": "8f2839f25d086af736a60e9eeb907d3b93b6e0e5"
   },
   "outputs": [
    {
     "name": "stdout",
     "output_type": "stream",
     "text": [
      "/kaggle/input/titanic/gender_submission.csv\n",
      "/kaggle/input/titanic/test.csv\n",
      "/kaggle/input/titanic/train.csv\n"
     ]
    }
   ],
   "source": [
    #THE EXECUTABLE CODE MAY BE FOUND AT https://www.kaggle.com/zubairnurie/titanic-ml
    
    
    "# This Python 3 environment comes with many helpful analytics libraries installed\n",
    "# It is defined by the kaggle/python docker image: https://github.com/kaggle/docker-python\n",
    "# For example, here's several helpful packages to load in \n",
    "\n",
    "import numpy as np # linear algebra\n",
    "import pandas as pd # data processing, CSV file I/O (e.g. pd.read_csv)\n",
    "\n",
    "# Input data files are available in the \"../input/\" directory.\n",
    "# For example, running this (by clicking run or pressing Shift+Enter) will list all files under the input directory\n",
    "\n",
    "import os\n",
    "for dirname, _, filenames in os.walk('/kaggle/input'):\n",
    "    for filename in filenames:\n",
    "        print(os.path.join(dirname, filename))\n",
    "\n",
    "# Any results you write to the current directory are saved as output."
   ]
  },
  {
   "cell_type": "code",
   "execution_count": 2,
   "metadata": {
    "_cell_guid": "79c7e3d0-c299-4dcb-8224-4455121ee9b0",
    "_uuid": "d629ff2d2480ee46fbb7e2d37f6b5fab8052498a"
   },
   "outputs": [
    {
     "data": {
      "text/plain": [
       "0                  330911\n",
       "1                  363272\n",
       "2                  240276\n",
       "3                  315154\n",
       "4                 3101298\n",
       "              ...        \n",
       "413             A.5. 3236\n",
       "414              PC 17758\n",
       "415    SOTON/O.Q. 3101262\n",
       "416                359309\n",
       "417                  2668\n",
       "Name: Ticket, Length: 418, dtype: object"
      ]
     },
     "execution_count": 2,
     "metadata": {},
     "output_type": "execute_result"
    }
   ],
   "source": [
    "data = pd.read_csv(\"/kaggle/input/titanic/train.csv\")\n",
    "test = pd.read_csv(\"/kaggle/input/titanic/test.csv\")\n",
    "res =  pd.read_csv(\"/kaggle/input/titanic/gender_submission.csv\")\n",
    "test[\"Ticket\"]"
   ]
  },
  {
   "cell_type": "code",
   "execution_count": 3,
   "metadata": {},
   "outputs": [],
   "source": [
    "data.drop([\"PassengerId\", \"Name\", \"Ticket\", \"Cabin\"], axis=1, inplace=True)\n",
    "test.drop([\"PassengerId\", \"Name\", \"Ticket\", \"Cabin\"], axis=1, inplace=True)"
   ]
  },
  {
   "cell_type": "code",
   "execution_count": 4,
   "metadata": {},
   "outputs": [
    {
     "name": "stdout",
     "output_type": "stream",
     "text": [
      "<class 'pandas.core.frame.DataFrame'>\n",
      "RangeIndex: 891 entries, 0 to 890\n",
      "Data columns (total 8 columns):\n",
      "Survived    891 non-null int64\n",
      "Pclass      891 non-null int64\n",
      "Sex         891 non-null object\n",
      "Age         714 non-null float64\n",
      "SibSp       891 non-null int64\n",
      "Parch       891 non-null int64\n",
      "Fare        891 non-null float64\n",
      "Embarked    889 non-null object\n",
      "dtypes: float64(2), int64(4), object(2)\n",
      "memory usage: 55.8+ KB\n",
      "<class 'pandas.core.frame.DataFrame'>\n",
      "RangeIndex: 418 entries, 0 to 417\n",
      "Data columns (total 7 columns):\n",
      "Pclass      418 non-null int64\n",
      "Sex         418 non-null object\n",
      "Age         332 non-null float64\n",
      "SibSp       418 non-null int64\n",
      "Parch       418 non-null int64\n",
      "Fare        417 non-null float64\n",
      "Embarked    418 non-null object\n",
      "dtypes: float64(2), int64(3), object(2)\n",
      "memory usage: 23.0+ KB\n"
     ]
    }
   ],
   "source": [
    "data.info()\n",
    "test.info()"
   ]
  },
  {
   "cell_type": "code",
   "execution_count": 5,
   "metadata": {},
   "outputs": [
    {
     "data": {
      "image/png": "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\n",
      "text/plain": [
       "<Figure size 720x576 with 6 Axes>"
      ]
     },
     "metadata": {
      "needs_background": "light"
     },
     "output_type": "display_data"
    }
   ],
   "source": [
    "import matplotlib.pyplot as plt\n",
    "data.hist(bins=50, figsize=(10,8))\n",
    "plt.show()"
   ]
  },
  {
   "cell_type": "code",
   "execution_count": 6,
   "metadata": {},
   "outputs": [
    {
     "data": {
      "text/plain": [
       "array([[<matplotlib.axes._subplots.AxesSubplot object at 0x7f9bf80a7860>,\n",
       "        <matplotlib.axes._subplots.AxesSubplot object at 0x7f9bf7565a58>,\n",
       "        <matplotlib.axes._subplots.AxesSubplot object at 0x7f9bf7584cc0>,\n",
       "        <matplotlib.axes._subplots.AxesSubplot object at 0x7f9bf751ff28>,\n",
       "        <matplotlib.axes._subplots.AxesSubplot object at 0x7f9bf7543358>,\n",
       "        <matplotlib.axes._subplots.AxesSubplot object at 0x7f9bf74de8d0>],\n",
       "       [<matplotlib.axes._subplots.AxesSubplot object at 0x7f9bf74fae48>,\n",
       "        <matplotlib.axes._subplots.AxesSubplot object at 0x7f9bf749d438>,\n",
       "        <matplotlib.axes._subplots.AxesSubplot object at 0x7f9bf749d470>,\n",
       "        <matplotlib.axes._subplots.AxesSubplot object at 0x7f9bf746def0>,\n",
       "        <matplotlib.axes._subplots.AxesSubplot object at 0x7f9bf741f4a8>,\n",
       "        <matplotlib.axes._subplots.AxesSubplot object at 0x7f9bf7447a20>],\n",
       "       [<matplotlib.axes._subplots.AxesSubplot object at 0x7f9bf73eff98>,\n",
       "        <matplotlib.axes._subplots.AxesSubplot object at 0x7f9bf739f550>,\n",
       "        <matplotlib.axes._subplots.AxesSubplot object at 0x7f9bf73c6ac8>,\n",
       "        <matplotlib.axes._subplots.AxesSubplot object at 0x7f9bf7377080>,\n",
       "        <matplotlib.axes._subplots.AxesSubplot object at 0x7f9bf731e5f8>,\n",
       "        <matplotlib.axes._subplots.AxesSubplot object at 0x7f9bf7347b70>],\n",
       "       [<matplotlib.axes._subplots.AxesSubplot object at 0x7f9bf72f9128>,\n",
       "        <matplotlib.axes._subplots.AxesSubplot object at 0x7f9bf72a16a0>,\n",
       "        <matplotlib.axes._subplots.AxesSubplot object at 0x7f9bf72c8c18>,\n",
       "        <matplotlib.axes._subplots.AxesSubplot object at 0x7f9bf727b1d0>,\n",
       "        <matplotlib.axes._subplots.AxesSubplot object at 0x7f9bf7221748>,\n",
       "        <matplotlib.axes._subplots.AxesSubplot object at 0x7f9bf7248cc0>],\n",
       "       [<matplotlib.axes._subplots.AxesSubplot object at 0x7f9bf71fa278>,\n",
       "        <matplotlib.axes._subplots.AxesSubplot object at 0x7f9bf71a27f0>,\n",
       "        <matplotlib.axes._subplots.AxesSubplot object at 0x7f9bf714ad68>,\n",
       "        <matplotlib.axes._subplots.AxesSubplot object at 0x7f9bf717c320>,\n",
       "        <matplotlib.axes._subplots.AxesSubplot object at 0x7f9bf7122898>,\n",
       "        <matplotlib.axes._subplots.AxesSubplot object at 0x7f9bf70cbe10>],\n",
       "       [<matplotlib.axes._subplots.AxesSubplot object at 0x7f9bf70fb3c8>,\n",
       "        <matplotlib.axes._subplots.AxesSubplot object at 0x7f9bf7098940>,\n",
       "        <matplotlib.axes._subplots.AxesSubplot object at 0x7f9bf70bdeb8>,\n",
       "        <matplotlib.axes._subplots.AxesSubplot object at 0x7f9bf706d470>,\n",
       "        <matplotlib.axes._subplots.AxesSubplot object at 0x7f9bf70139e8>,\n",
       "        <matplotlib.axes._subplots.AxesSubplot object at 0x7f9bf703df60>]],\n",
       "      dtype=object)"
      ]
     },
     "execution_count": 6,
     "metadata": {},
     "output_type": "execute_result"
    },
    {
     "data": {
      "image/png": "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\n",
      "text/plain": [
       "<Figure size 1440x720 with 36 Axes>"
      ]
     },
     "metadata": {
      "needs_background": "light"
     },
     "output_type": "display_data"
    }
   ],
   "source": [
    "from sklearn.model_selection import train_test_split\n",
    "\n",
    "train_data_set, test_data_set = train_test_split(data, test_size=0.2, random_state=37)\n",
    "\n",
    "train_corr_matrix = train_data_set.corr()\n",
    "\n",
    "from pandas.plotting import scatter_matrix\n",
    "scatter_matrix(train_corr_matrix, figsize=(20,10))"
   ]
  },
  {
   "cell_type": "code",
   "execution_count": 7,
   "metadata": {},
   "outputs": [
    {
     "name": "stdout",
     "output_type": "stream",
     "text": [
      "<class 'pandas.core.frame.DataFrame'>\n",
      "Int64Index: 712 entries, 795 to 363\n",
      "Data columns (total 7 columns):\n",
      "Pclass      712 non-null int64\n",
      "Sex         712 non-null object\n",
      "Age         577 non-null float64\n",
      "SibSp       712 non-null int64\n",
      "Parch       712 non-null int64\n",
      "Fare        712 non-null float64\n",
      "Embarked    711 non-null object\n",
      "dtypes: float64(2), int64(3), object(2)\n",
      "memory usage: 44.5+ KB\n"
     ]
    }
   ],
   "source": [
    "train_data = train_data_set.drop(\"Survived\", axis=1)\n",
    "train_labels = train_data_set[\"Survived\"].copy()\n",
    "train_data.info()"
   ]
  },
  {
   "cell_type": "code",
   "execution_count": 8,
   "metadata": {},
   "outputs": [
    {
     "name": "stdout",
     "output_type": "stream",
     "text": [
      "<class 'pandas.core.frame.DataFrame'>\n",
      "Int64Index: 712 entries, 795 to 363\n",
      "Data columns (total 5 columns):\n",
      "Pclass    712 non-null float64\n",
      "Age       712 non-null float64\n",
      "SibSp     712 non-null float64\n",
      "Parch     712 non-null float64\n",
      "Fare      712 non-null float64\n",
      "dtypes: float64(5)\n",
      "memory usage: 33.4 KB\n"
     ]
    }
   ],
   "source": [
    "from sklearn.impute import SimpleImputer\n",
    "from sklearn.preprocessing import LabelEncoder\n",
    "\n",
    "sex = train_data[\"Sex\"].copy()\n",
    "lb_enc = LabelEncoder()\n",
    "sex_emc = lb_enc.fit_transform(sex)\n",
    "sex_enc_pd = pd.DataFrame(sex_emc)\n",
    "\n",
    "\n",
    "train_data_num = train_data.drop([\"Sex\", \"Embarked\"], axis=1)\n",
    "train_data_num.describe()\n",
    "\n",
    "sim_imp = SimpleImputer(strategy=\"median\")\n",
    "processed_num_data = sim_imp.fit_transform(train_data_num)\n",
    "\n",
    "processed_num_data\n",
    "train_data_tr = pd.DataFrame(processed_num_data, columns=train_data_num.columns, index=train_data.index)\n",
    "train_data_tr.info()"
   ]
  },
  {
   "cell_type": "code",
   "execution_count": 9,
   "metadata": {},
   "outputs": [],
   "source": [
    "train_data[\"Embarked\"].fillna(\"S\", inplace=True)\n",
    "embarked = train_data[\"Embarked\"].copy()\n",
    "embarked_encoder = LabelEncoder()\n",
    "embarked_encoded = embarked_encoder.fit_transform(embarked)\n",
    "emb_enc_pd = pd.DataFrame(embarked_encoded)\n"
   ]
  },
  {
   "cell_type": "code",
   "execution_count": 10,
   "metadata": {},
   "outputs": [
    {
     "name": "stdout",
     "output_type": "stream",
     "text": [
      "<class 'pandas.core.frame.DataFrame'>\n",
      "Int64Index: 712 entries, 795 to 363\n",
      "Data columns (total 7 columns):\n",
      "Pclass      712 non-null int64\n",
      "Sex         712 non-null object\n",
      "Age         577 non-null float64\n",
      "SibSp       712 non-null int64\n",
      "Parch       712 non-null int64\n",
      "Fare        712 non-null float64\n",
      "Embarked    712 non-null object\n",
      "dtypes: float64(2), int64(3), object(2)\n",
      "memory usage: 44.5+ KB\n"
     ]
    }
   ],
   "source": [
    "# train_data.drop(\"Ticket\", axis=1, inplace=True)\n",
    "train_data.info()"
   ]
  },
  {
   "cell_type": "code",
   "execution_count": 11,
   "metadata": {},
   "outputs": [],
   "source": [
    "num_attribs = list(train_data_num)\n",
    "num_attribs\n",
    "\n",
    "cat_attribs = ['Sex', 'Embarked']"
   ]
  },
  {
   "cell_type": "code",
   "execution_count": null,
   "metadata": {},
   "outputs": [],
   "source": []
  },
  {
   "cell_type": "code",
   "execution_count": 12,
   "metadata": {},
   "outputs": [],
   "source": [
    "from sklearn.pipeline import Pipeline\n",
    "from sklearn.preprocessing import StandardScaler\n",
    "from sklearn.preprocessing import OneHotEncoder\n",
    "from sklearn.compose import ColumnTransformer\n",
    "\n",
    "num_pipeline = Pipeline([(\"imputer\", SimpleImputer(strategy='median')),\n",
    "                        (\"std_scaler\", StandardScaler()),])\n",
    "\n",
    "full_pipeline = ColumnTransformer([(\"num\", num_pipeline, num_attribs),\n",
    "                                  (\"cat\", OneHotEncoder(), cat_attribs)])"
   ]
  },
  {
   "cell_type": "code",
   "execution_count": 13,
   "metadata": {},
   "outputs": [
    {
     "data": {
      "text/plain": [
       "array([[-0.36711576,  0.72360716, -0.45973411, ...,  0.        ,\n",
       "         0.        ,  1.        ],\n",
       "       [ 0.83190451, -0.80301284, -0.45973411, ...,  0.        ,\n",
       "         0.        ,  1.        ],\n",
       "       [ 0.83190451,  1.63957916, -0.45973411, ...,  0.        ,\n",
       "         0.        ,  1.        ],\n",
       "       ...,\n",
       "       [ 0.83190451, -0.03970284,  0.42494342, ...,  0.        ,\n",
       "         0.        ,  1.        ],\n",
       "       [ 0.83190451, -0.95567484, -0.45973411, ...,  0.        ,\n",
       "         0.        ,  1.        ],\n",
       "       [ 0.83190451,  0.41828316, -0.45973411, ...,  0.        ,\n",
       "         0.        ,  1.        ]])"
      ]
     },
     "execution_count": 13,
     "metadata": {},
     "output_type": "execute_result"
    }
   ],
   "source": [
    "processed_full = full_pipeline.fit_transform(train_data)\n",
    "processed_full"
   ]
  },
  {
   "cell_type": "code",
   "execution_count": 14,
   "metadata": {},
   "outputs": [],
   "source": [
    "# test_data_modded = test_data_set.drop([\"Name\", \"Cabin\", \"Survived\", \"Ticket\"], axis=1)"
   ]
  },
  {
   "cell_type": "code",
   "execution_count": 15,
   "metadata": {},
   "outputs": [
    {
     "name": "stdout",
     "output_type": "stream",
     "text": [
      "<class 'pandas.core.frame.DataFrame'>\n",
      "RangeIndex: 712 entries, 0 to 711\n",
      "Data columns (total 10 columns):\n",
      "0    712 non-null float64\n",
      "1    712 non-null float64\n",
      "2    712 non-null float64\n",
      "3    712 non-null float64\n",
      "4    712 non-null float64\n",
      "5    712 non-null float64\n",
      "6    712 non-null float64\n",
      "7    712 non-null float64\n",
      "8    712 non-null float64\n",
      "9    712 non-null float64\n",
      "dtypes: float64(10)\n",
      "memory usage: 55.8 KB\n",
      "None\n"
     ]
    },
    {
     "name": "stderr",
     "output_type": "stream",
     "text": [
      "/opt/conda/lib/python3.6/site-packages/sklearn/ensemble/forest.py:245: FutureWarning: The default value of n_estimators will change from 10 in version 0.20 to 100 in 0.22.\n",
      "  \"10 in version 0.20 to 100 in 0.22.\", FutureWarning)\n"
     ]
    }
   ],
   "source": [
    "from sklearn.ensemble import RandomForestClassifier\n",
    "from sklearn.metrics import mean_squared_error\n",
    "from sklearn.model_selection import cross_val_score\n",
    "\n",
    "pro_df = pd.DataFrame(processed_full)\n",
    "print(pro_df.info())\n",
    "\n",
    "ra_fo = RandomForestClassifier()\n",
    "ra_fo.fit(processed_full, train_labels)\n",
    "ra_fo_predictions = ra_fo.predict(processed_full)\n",
    "\n",
    "\n",
    "\n",
    "\n"
   ]
  },
  {
   "cell_type": "code",
   "execution_count": 16,
   "metadata": {},
   "outputs": [
    {
     "data": {
      "text/plain": [
       "array([0.48591266, 0.42491829, 0.44095855, 0.45643546, 0.42790021,\n",
       "       0.50350881, 0.42790021, 0.44405304, 0.46291005, 0.4309458 ])"
      ]
     },
     "execution_count": 16,
     "metadata": {},
     "output_type": "execute_result"
    }
   ],
   "source": [
    "cross_val = cross_val_score(ra_fo, processed_full, train_labels,\n",
    "                           scoring=\"neg_mean_squared_error\", cv=10)\n",
    "rmse_cross_val = np.sqrt(-cross_val)\n",
    "rmse_cross_val"
   ]
  },
  {
   "cell_type": "code",
   "execution_count": 17,
   "metadata": {},
   "outputs": [
    {
     "data": {
      "text/plain": [
       "array([0.45643546, 0.42491829, 0.40824829, 0.47140452, 0.39361095,\n",
       "       0.47471266, 0.39361095, 0.44405304, 0.39641248, 0.31622777])"
      ]
     },
     "execution_count": 17,
     "metadata": {},
     "output_type": "execute_result"
    }
   ],
   "source": [
    "from sklearn.svm import SVC\n",
    "svc = SVC(C=10, gamma=0.1)\n",
    "svc.fit(processed_full, train_labels)\n",
    "\n",
    "cross_val_svc = cross_val_score(svc, processed_full, train_labels,\n",
    "                           scoring=\"neg_mean_squared_error\", cv=10)\n",
    "rmse_cross_val_svc = np.sqrt(-cross_val_svc)\n",
    "rmse_cross_val_svc"
   ]
  },
  {
   "cell_type": "code",
   "execution_count": 18,
   "metadata": {},
   "outputs": [
    {
     "name": "stdout",
     "output_type": "stream",
     "text": [
      "0.9817415730337079\n",
      "0.9691011235955056\n"
     ]
    }
   ],
   "source": [
    "from sklearn.tree import DecisionTreeClassifier\n",
    "from sklearn.metrics import accuracy_score\n",
    "\n",
    "dec_tree = DecisionTreeClassifier()\n",
    "dec_tree.fit(processed_full, train_labels)\n",
    "predic = dec_tree.predict(processed_full)\n",
    "accuracy = accuracy_score(train_labels, predic)\n",
    "print(accuracy)\n",
    "\n",
    "accuracy_ra_fo = accuracy_score(ra_fo_predictions, train_labels)\n",
    "print(accuracy_ra_fo)"
   ]
  },
  {
   "cell_type": "code",
   "execution_count": 19,
   "metadata": {},
   "outputs": [
    {
     "data": {
      "text/html": [
       "<div>\n",
       "<style scoped>\n",
       "    .dataframe tbody tr th:only-of-type {\n",
       "        vertical-align: middle;\n",
       "    }\n",
       "\n",
       "    .dataframe tbody tr th {\n",
       "        vertical-align: top;\n",
       "    }\n",
       "\n",
       "    .dataframe thead th {\n",
       "        text-align: right;\n",
       "    }\n",
       "</style>\n",
       "<table border=\"1\" class=\"dataframe\">\n",
       "  <thead>\n",
       "    <tr style=\"text-align: right;\">\n",
       "      <th></th>\n",
       "      <th>Survived</th>\n",
       "      <th>Pclass</th>\n",
       "      <th>Sex</th>\n",
       "      <th>Age</th>\n",
       "      <th>SibSp</th>\n",
       "      <th>Parch</th>\n",
       "      <th>Fare</th>\n",
       "      <th>Embarked</th>\n",
       "    </tr>\n",
       "  </thead>\n",
       "  <tbody>\n",
       "    <tr>\n",
       "      <th>601</th>\n",
       "      <td>0</td>\n",
       "      <td>3</td>\n",
       "      <td>male</td>\n",
       "      <td>NaN</td>\n",
       "      <td>0</td>\n",
       "      <td>0</td>\n",
       "      <td>7.8958</td>\n",
       "      <td>S</td>\n",
       "    </tr>\n",
       "    <tr>\n",
       "      <th>743</th>\n",
       "      <td>0</td>\n",
       "      <td>3</td>\n",
       "      <td>male</td>\n",
       "      <td>24.0</td>\n",
       "      <td>1</td>\n",
       "      <td>0</td>\n",
       "      <td>16.1000</td>\n",
       "      <td>S</td>\n",
       "    </tr>\n",
       "    <tr>\n",
       "      <th>673</th>\n",
       "      <td>1</td>\n",
       "      <td>2</td>\n",
       "      <td>male</td>\n",
       "      <td>31.0</td>\n",
       "      <td>0</td>\n",
       "      <td>0</td>\n",
       "      <td>13.0000</td>\n",
       "      <td>S</td>\n",
       "    </tr>\n",
       "    <tr>\n",
       "      <th>160</th>\n",
       "      <td>0</td>\n",
       "      <td>3</td>\n",
       "      <td>male</td>\n",
       "      <td>44.0</td>\n",
       "      <td>0</td>\n",
       "      <td>1</td>\n",
       "      <td>16.1000</td>\n",
       "      <td>S</td>\n",
       "    </tr>\n",
       "    <tr>\n",
       "      <th>786</th>\n",
       "      <td>1</td>\n",
       "      <td>3</td>\n",
       "      <td>female</td>\n",
       "      <td>18.0</td>\n",
       "      <td>0</td>\n",
       "      <td>0</td>\n",
       "      <td>7.4958</td>\n",
       "      <td>S</td>\n",
       "    </tr>\n",
       "    <tr>\n",
       "      <th>...</th>\n",
       "      <td>...</td>\n",
       "      <td>...</td>\n",
       "      <td>...</td>\n",
       "      <td>...</td>\n",
       "      <td>...</td>\n",
       "      <td>...</td>\n",
       "      <td>...</td>\n",
       "      <td>...</td>\n",
       "    </tr>\n",
       "    <tr>\n",
       "      <th>812</th>\n",
       "      <td>0</td>\n",
       "      <td>2</td>\n",
       "      <td>male</td>\n",
       "      <td>35.0</td>\n",
       "      <td>0</td>\n",
       "      <td>0</td>\n",
       "      <td>10.5000</td>\n",
       "      <td>S</td>\n",
       "    </tr>\n",
       "    <tr>\n",
       "      <th>473</th>\n",
       "      <td>1</td>\n",
       "      <td>2</td>\n",
       "      <td>female</td>\n",
       "      <td>23.0</td>\n",
       "      <td>0</td>\n",
       "      <td>0</td>\n",
       "      <td>13.7917</td>\n",
       "      <td>C</td>\n",
       "    </tr>\n",
       "    <tr>\n",
       "      <th>206</th>\n",
       "      <td>0</td>\n",
       "      <td>3</td>\n",
       "      <td>male</td>\n",
       "      <td>32.0</td>\n",
       "      <td>1</td>\n",
       "      <td>0</td>\n",
       "      <td>15.8500</td>\n",
       "      <td>S</td>\n",
       "    </tr>\n",
       "    <tr>\n",
       "      <th>475</th>\n",
       "      <td>0</td>\n",
       "      <td>1</td>\n",
       "      <td>male</td>\n",
       "      <td>NaN</td>\n",
       "      <td>0</td>\n",
       "      <td>0</td>\n",
       "      <td>52.0000</td>\n",
       "      <td>S</td>\n",
       "    </tr>\n",
       "    <tr>\n",
       "      <th>886</th>\n",
       "      <td>0</td>\n",
       "      <td>2</td>\n",
       "      <td>male</td>\n",
       "      <td>27.0</td>\n",
       "      <td>0</td>\n",
       "      <td>0</td>\n",
       "      <td>13.0000</td>\n",
       "      <td>S</td>\n",
       "    </tr>\n",
       "  </tbody>\n",
       "</table>\n",
       "<p>179 rows × 8 columns</p>\n",
       "</div>"
      ],
      "text/plain": [
       "     Survived  Pclass     Sex   Age  SibSp  Parch     Fare Embarked\n",
       "601         0       3    male   NaN      0      0   7.8958        S\n",
       "743         0       3    male  24.0      1      0  16.1000        S\n",
       "673         1       2    male  31.0      0      0  13.0000        S\n",
       "160         0       3    male  44.0      0      1  16.1000        S\n",
       "786         1       3  female  18.0      0      0   7.4958        S\n",
       "..        ...     ...     ...   ...    ...    ...      ...      ...\n",
       "812         0       2    male  35.0      0      0  10.5000        S\n",
       "473         1       2  female  23.0      0      0  13.7917        C\n",
       "206         0       3    male  32.0      1      0  15.8500        S\n",
       "475         0       1    male   NaN      0      0  52.0000        S\n",
       "886         0       2    male  27.0      0      0  13.0000        S\n",
       "\n",
       "[179 rows x 8 columns]"
      ]
     },
     "execution_count": 19,
     "metadata": {},
     "output_type": "execute_result"
    }
   ],
   "source": [
    "# test_data_set.drop([\"Name\", \"Ticket\", \"Cabin\"], axis=1, inplace=True)\n",
    "test_data_labels = test_data_set[\"Survived\"].copy()\n",
    "test_data_set"
   ]
  },
  {
   "cell_type": "code",
   "execution_count": 20,
   "metadata": {},
   "outputs": [
    {
     "name": "stderr",
     "output_type": "stream",
     "text": [
      "/opt/conda/lib/python3.6/site-packages/pandas/core/generic.py:6287: SettingWithCopyWarning: \n",
      "A value is trying to be set on a copy of a slice from a DataFrame\n",
      "\n",
      "See the caveats in the documentation: http://pandas.pydata.org/pandas-docs/stable/user_guide/indexing.html#returning-a-view-versus-a-copy\n",
      "  self._update_inplace(new_data)\n"
     ]
    },
    {
     "data": {
      "text/plain": [
       "array([[ 0.80963545, -0.05784783, -0.54630174, ...,  0.        ,\n",
       "         0.        ,  1.        ],\n",
       "       [ 0.80963545, -0.37443458,  0.47232338, ...,  0.        ,\n",
       "         0.        ,  1.        ],\n",
       "       [-0.3782723 ,  0.17959223, -0.54630174, ...,  0.        ,\n",
       "         0.        ,  1.        ],\n",
       "       ...,\n",
       "       [ 0.80963545,  0.25873892,  0.47232338, ...,  0.        ,\n",
       "         0.        ,  1.        ],\n",
       "       [-1.56618004, -0.05784783, -0.54630174, ...,  0.        ,\n",
       "         0.        ,  1.        ],\n",
       "       [-0.3782723 , -0.13699451, -0.54630174, ...,  0.        ,\n",
       "         0.        ,  1.        ]])"
      ]
     },
     "execution_count": 20,
     "metadata": {},
     "output_type": "execute_result"
    }
   ],
   "source": [
    "test_data_set[\"Embarked\"].fillna(\"S\", inplace=True)\n",
    "test_data_prepared = full_pipeline.fit_transform(test_data_set)\n",
    "test_data_prepared"
   ]
  },
  {
   "cell_type": "code",
   "execution_count": 21,
   "metadata": {},
   "outputs": [
    {
     "data": {
      "text/plain": [
       "0.7541899441340782"
      ]
     },
     "execution_count": 21,
     "metadata": {},
     "output_type": "execute_result"
    }
   ],
   "source": [
    "test_pred = dec_tree.predict(test_data_prepared)\n",
    "accuracy_test_dt = accuracy_score(test_data_labels, test_pred)\n",
    "accuracy_test_dt"
   ]
  },
  {
   "cell_type": "code",
   "execution_count": 22,
   "metadata": {},
   "outputs": [
    {
     "data": {
      "text/plain": [
       "0.8156424581005587"
      ]
     },
     "execution_count": 22,
     "metadata": {},
     "output_type": "execute_result"
    }
   ],
   "source": [
    "ra_test_pred = ra_fo.predict(test_data_prepared)\n",
    "accuracy_test_ra = accuracy_score(test_data_labels, ra_test_pred)\n",
    "accuracy_test_ra"
   ]
  },
  {
   "cell_type": "code",
   "execution_count": 23,
   "metadata": {},
   "outputs": [
    {
     "data": {
      "text/plain": [
       "0.8100558659217877"
      ]
     },
     "execution_count": 23,
     "metadata": {},
     "output_type": "execute_result"
    }
   ],
   "source": [
    "svc_test_pred = svc.predict(test_data_prepared)\n",
    "accuracy_test_svc = accuracy_score(test_data_labels, svc_test_pred)\n",
    "accuracy_test_svc"
   ]
  },
  {
   "cell_type": "code",
   "execution_count": 24,
   "metadata": {},
   "outputs": [],
   "source": [
    "score = cross_val_score(svc, processed_full, train_labels,\n",
    "                        scoring=\"accuracy\", cv=10)\n",
    "\n"
   ]
  },
  {
   "cell_type": "code",
   "execution_count": 25,
   "metadata": {},
   "outputs": [
    {
     "data": {
      "text/plain": [
       "'\\nsvc_random = RandomizedSearchCV(estimator = svc, param_distributions = random_grid, n_iter = 10, cv = 3, verbose=2, random_state=42)\\nsvc_random.fit(processed_full, train_labels)\\nsvc_random.best_params_\\n'"
      ]
     },
     "execution_count": 25,
     "metadata": {},
     "output_type": "execute_result"
    }
   ],
   "source": [
    "#from sklearn.model_selection import RandomizedSearchCV\n",
    "#random_grid = {'kernel': [\"rbf\"],\n",
    "# 'C': [1, 10, 100, 1000, 10000],\n",
    "# 'gamma': [0.01,0.1,1]}\n",
    "'''\n",
    "svc_random = RandomizedSearchCV(estimator = svc, param_distributions = random_grid, n_iter = 10, cv = 3, verbose=2, random_state=42)\n",
    "svc_random.fit(processed_full, train_labels)\n",
    "svc_random.best_params_\n",
    "'''"
   ]
  },
  {
   "cell_type": "code",
   "execution_count": 26,
   "metadata": {},
   "outputs": [
    {
     "data": {
      "text/plain": [
       "'\\nrf_random = RandomizedSearchCV(estimator = ra_fo, param_distributions = random_grid, n_iter = 100, cv = 3, verbose=2, random_state=42, n_jobs = -1)\\nrf_random.fit(processed_full, train_labels)\\nrf_random.best_params_\\n'"
      ]
     },
     "execution_count": 26,
     "metadata": {},
     "output_type": "execute_result"
    }
   ],
   "source": [
    "{'bootstrap': [True, False],\n",
    " 'max_depth': [10, 20, 30, 40, 50, 60, 70, 80, 90, 100, None],\n",
    " 'max_features': ['auto', 'sqrt'],\n",
    " 'min_samples_leaf': [1, 2, 4],\n",
    " 'min_samples_split': [2, 5, 10],\n",
    " 'n_estimators': [200, 400, 600, 800, 1000, 1200, 1400, 1600, 1800, 2000]}\n",
    "\n",
    "'''\n",
    "rf_random = RandomizedSearchCV(estimator = ra_fo, param_distributions = random_grid, n_iter = 100, cv = 3, verbose=2, random_state=42, n_jobs = -1)\n",
    "rf_random.fit(processed_full, train_labels)\n",
    "rf_random.best_params_\n",
    "'''"
   ]
  },
  {
   "cell_type": "code",
   "execution_count": null,
   "metadata": {},
   "outputs": [],
   "source": []
  },
  {
   "cell_type": "code",
   "execution_count": 27,
   "metadata": {},
   "outputs": [
    {
     "data": {
      "text/plain": [
       "array([[ 0.87348191,  0.38623105, -0.49947002, ...,  0.        ,\n",
       "         1.        ,  0.        ],\n",
       "       [ 0.87348191,  1.37137004,  0.61699237, ...,  0.        ,\n",
       "         0.        ,  1.        ],\n",
       "       [-0.31581919,  2.55353683, -0.49947002, ...,  0.        ,\n",
       "         1.        ,  0.        ],\n",
       "       ...,\n",
       "       [ 0.87348191,  0.70147553, -0.49947002, ...,  0.        ,\n",
       "         0.        ,  1.        ],\n",
       "       [ 0.87348191, -0.20485235, -0.49947002, ...,  0.        ,\n",
       "         0.        ,  1.        ],\n",
       "       [ 0.87348191, -0.20485235,  0.61699237, ...,  1.        ,\n",
       "         0.        ,  0.        ]])"
      ]
     },
     "execution_count": 27,
     "metadata": {},
     "output_type": "execute_result"
    }
   ],
   "source": [
    "test[\"Embarked\"].fillna(\"S\", inplace=True)\n",
    "test_prepared = full_pipeline.fit_transform(test)\n",
    "test_prepared\n",
    "\n"
   ]
  },
  {
   "cell_type": "code",
   "execution_count": 28,
   "metadata": {},
   "outputs": [
    {
     "name": "stdout",
     "output_type": "stream",
     "text": [
      "<class 'pandas.core.frame.DataFrame'>\n",
      "RangeIndex: 418 entries, 0 to 417\n",
      "Data columns (total 7 columns):\n",
      "Pclass      418 non-null int64\n",
      "Sex         418 non-null object\n",
      "Age         332 non-null float64\n",
      "SibSp       418 non-null int64\n",
      "Parch       418 non-null int64\n",
      "Fare        417 non-null float64\n",
      "Embarked    418 non-null object\n",
      "dtypes: float64(2), int64(3), object(2)\n",
      "memory usage: 23.0+ KB\n"
     ]
    }
   ],
   "source": [
    "test.info()"
   ]
  },
  {
   "cell_type": "code",
   "execution_count": 29,
   "metadata": {},
   "outputs": [],
   "source": [
    "svc_test_pred_final = svc.predict(test_prepared)\n",
    "svc_test_pred_final\n",
    "pred_pd = pd.Series(svc_test_pred_final, name=\"Survived\")\n"
   ]
  },
  {
   "cell_type": "code",
   "execution_count": 30,
   "metadata": {},
   "outputs": [],
   "source": [
    "rafo_test_pred_final = ra_fo.predict(test_prepared)\n",
    "rafo_test_pred_final\n",
    "pred_pd = pd.Series(rafo_test_pred_final, name=\"Survived\")"
   ]
  },
  {
   "cell_type": "code",
   "execution_count": 31,
   "metadata": {},
   "outputs": [
    {
     "name": "stdout",
     "output_type": "stream",
     "text": [
      "     PassengerId  Survived\n",
      "0            892         0\n",
      "1            893         0\n",
      "2            894         0\n",
      "3            895         0\n",
      "4            896         0\n",
      "..           ...       ...\n",
      "413         1305         0\n",
      "414         1306         1\n",
      "415         1307         0\n",
      "416         1308         0\n",
      "417         1309         1\n",
      "\n",
      "[418 rows x 2 columns]\n"
     ]
    }
   ],
   "source": [
    "results = pd.concat([pd.read_csv('/kaggle/input/titanic/test.csv')['PassengerId'],pred_pd],axis=1)\n",
    "results.to_csv(\"predection_mine.csv\",index=False)\n",
    "print(results)\n",
    "#print(res)"
   ]
  },
  {
   "cell_type": "code",
   "execution_count": 32,
   "metadata": {},
   "outputs": [
    {
     "data": {
      "text/plain": [
       "0    266\n",
       "1    152\n",
       "Name: Survived, dtype: int64"
      ]
     },
     "execution_count": 32,
     "metadata": {},
     "output_type": "execute_result"
    }
   ],
   "source": [
    "results[\"Survived\"].value_counts()"
   ]
  },
  {
   "cell_type": "code",
   "execution_count": 33,
   "metadata": {},
   "outputs": [
    {
     "data": {
      "text/plain": [
       "0    266\n",
       "1    152\n",
       "Name: Survived, dtype: int64"
      ]
     },
     "execution_count": 33,
     "metadata": {},
     "output_type": "execute_result"
    }
   ],
   "source": [
    "res[\"Survived\"].value_counts()"
   ]
  },
  {
   "cell_type": "code",
   "execution_count": null,
   "metadata": {},
   "outputs": [],
   "source": []
  },
  {
   "cell_type": "code",
   "execution_count": null,
   "metadata": {},
   "outputs": [],
   "source": []
  },
  {
   "cell_type": "code",
   "execution_count": null,
   "metadata": {},
   "outputs": [],
   "source": []
  },
  {
   "cell_type": "code",
   "execution_count": null,
   "metadata": {},
   "outputs": [],
   "source": []
  }
 ],
 "metadata": {
  "kernelspec": {
   "display_name": "Python 3",
   "language": "python",
   "name": "python3"
  },
  "language_info": {
   "codemirror_mode": {
    "name": "ipython",
    "version": 3
   },
   "file_extension": ".py",
   "mimetype": "text/x-python",
   "name": "python",
   "nbconvert_exporter": "python",
   "pygments_lexer": "ipython3",
   "version": "3.6.6"
  }
 },
 "nbformat": 4,
 "nbformat_minor": 1
}
